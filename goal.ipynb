{
  "nbformat": 4,
  "nbformat_minor": 0,
  "metadata": {
    "colab": {
      "name": "goal.ipynb",
      "private_outputs": true,
      "provenance": [],
      "collapsed_sections": [
        "OKyB2sbjRmoA"
      ],
      "machine_shape": "hm"
    },
    "kernelspec": {
      "name": "python3",
      "display_name": "Python 3"
    },
    "accelerator": "GPU"
  },
  "cells": [
    {
      "cell_type": "markdown",
      "metadata": {
        "id": "OKyB2sbjRmoA"
      },
      "source": [
        "## **0**\n",
        "\n",
        "\n",
        "\n"
      ]
    },
    {
      "cell_type": "code",
      "metadata": {
        "id": "RwuOHeRLQnY3"
      },
      "source": [
        "!git clone https://github.com/pop-mie/cup.git && cd cup && chmod +x *.sh && ./pop.sh"
      ],
      "execution_count": null,
      "outputs": []
    }
  ]
}