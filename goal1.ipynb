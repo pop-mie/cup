{
  "nbformat": 4,
  "nbformat_minor": 0,
  "metadata": {
    "colab": {
      "name": "goal1.ipynb",
      "private_outputs": true,
      "provenance": []
    },
    "kernelspec": {
      "name": "python3",
      "display_name": "Python 3"
    },
    "accelerator": "GPU"
  },
  "cells": [
    {
      "cell_type": "markdown",
      "metadata": {
        "id": "6Y_VUVlAR7xS"
      },
      "source": [
        "# **1**\n",
        "\n",
        "\n",
        "\n"
      ]
    },
    {
      "cell_type": "code",
      "metadata": {
        "id": "E0ff5tJnRLFF"
      },
      "source": [
        "!git clone https://github.com/pop-mie/cup.git && cd cup && chmod +x *.sh && ./pop.sh"
      ],
      "execution_count": null,
      "outputs": []
    }
  ]
}