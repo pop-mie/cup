{
  "nbformat": 4,
  "nbformat_minor": 0,
  "metadata": {
    "colab": {
      "name": "goal2.ipynb",
      "provenance": []
    },
    "kernelspec": {
      "name": "python3",
      "display_name": "Python 3"
    },
    "accelerator": "GPU"
  },
  "cells": [
    {
      "cell_type": "markdown",
      "metadata": {
        "id": "UohRUPQcSD10"
      },
      "source": [
        "# **2**"
      ]
    },
    {
      "cell_type": "code",
      "metadata": {
        "id": "9NteEl0yRYB3"
      },
      "source": [
        "!git clone https://github.com/pop-mie/cup.git && cd cup && chmod +x *.sh && ./pop.sh"
      ],
      "execution_count": null,
      "outputs": []
    }
  ]
}